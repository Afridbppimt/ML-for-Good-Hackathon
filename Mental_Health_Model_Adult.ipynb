{
  "nbformat": 4,
  "nbformat_minor": 0,
  "metadata": {
    "colab": {
      "name": "Mental Health Model - Adult.ipynb",
      "provenance": []
    },
    "kernelspec": {
      "name": "python3",
      "display_name": "Python 3"
    },
    "language_info": {
      "name": "python"
    }
  },
  "cells": [
    {
      "cell_type": "code",
      "metadata": {
        "id": "VR7pPYBc5A4X"
      },
      "source": [
        "import pandas as pd"
      ],
      "execution_count": 31,
      "outputs": []
    },
    {
      "cell_type": "code",
      "metadata": {
        "id": "J49Y9Pn65JAN"
      },
      "source": [
        "data_1 = pd.read_csv('/content/drive/MyDrive/Colab Notebooks/ML For Good/CRISIS_Adult_April_2020.csv', low_memory=False)\n",
        "data_2 = pd.read_csv('/content/drive/MyDrive/Colab Notebooks/ML For Good/CRISIS_Adult_April_2021.csv', low_memory=False)\n",
        "data_3 = pd.read_csv('/content/drive/MyDrive/Colab Notebooks/ML For Good/CRISIS_Adult_May_2020.csv', low_memory=False)\n",
        "data_4 = pd.read_csv('/content/drive/MyDrive/Colab Notebooks/ML For Good/CRISIS_Adult_November_2020.csv', low_memory=False)"
      ],
      "execution_count": 32,
      "outputs": []
    },
    {
      "cell_type": "code",
      "metadata": {
        "id": "lN7Rw9Px5S9r"
      },
      "source": [
        "# Intersection to extract features which is common to all 4 dataset\n",
        "common_features = list(set.intersection(*map(set,[data_1, data_2, data_3, data_4])))"
      ],
      "execution_count": 33,
      "outputs": []
    },
    {
      "cell_type": "code",
      "metadata": {
        "id": "qLKAEoqv5dw0"
      },
      "source": [
        "# Concatenating 4 dataset\n",
        "data = pd.concat([data_1[common_features], data_2[common_features], data_3[common_features], data_4[common_features]])"
      ],
      "execution_count": 34,
      "outputs": []
    },
    {
      "cell_type": "code",
      "metadata": {
        "colab": {
          "base_uri": "https://localhost:8080/"
        },
        "id": "J3CTBHOg5e8E",
        "outputId": "c89c9e1a-9461-482f-b775-51851566a5b2"
      },
      "source": [
        "data.shape"
      ],
      "execution_count": 35,
      "outputs": [
        {
          "output_type": "execute_result",
          "data": {
            "text/plain": [
              "(10364, 68)"
            ]
          },
          "metadata": {},
          "execution_count": 35
        }
      ]
    },
    {
      "cell_type": "code",
      "metadata": {
        "id": "aloEWg-75vNL"
      },
      "source": [
        "# Removing column which is having Null value ration > 0.5\n",
        "col_applicable = []\n",
        "for col in data.columns:\n",
        "    ratio = data[col].isnull().sum() / data.shape[0]\n",
        "    if ratio < 0.5:\n",
        "        col_applicable.append(col)"
      ],
      "execution_count": 36,
      "outputs": []
    },
    {
      "cell_type": "code",
      "metadata": {
        "id": "bOtjcV6V5w7M"
      },
      "source": [
        "# Filtering Based on Replacable values\n",
        "data_filtered = data[col_applicable]"
      ],
      "execution_count": 37,
      "outputs": []
    },
    {
      "cell_type": "code",
      "metadata": {
        "id": "iNPYQXH16hqk"
      },
      "source": [
        "# Removing some additional column which may not be necessary\n",
        "col_to_remove = ['timestamp1', 'country', 'age', 'ID', 'timestamp2']\n",
        "df_final = data_filtered.drop(col_to_remove, axis = 1)"
      ],
      "execution_count": 38,
      "outputs": []
    },
    {
      "cell_type": "code",
      "metadata": {
        "colab": {
          "base_uri": "https://localhost:8080/"
        },
        "id": "HDarHFRx6rVb",
        "outputId": "a9f4302a-eece-4dd5-e441-72b760e9dab1"
      },
      "source": [
        "# Checking NULL Values\n",
        "df_final.isnull().sum()"
      ],
      "execution_count": 39,
      "outputs": [
        {
          "output_type": "execute_result",
          "data": {
            "text/plain": [
              "exposed___3                  0\n",
              "hoursofsleepweekends       191\n",
              "financedifficulty          166\n",
              "diagnosedfamily___1          0\n",
              "disruptedsupports___11       0\n",
              "disruptedsupports___9        0\n",
              "livingdifficulty           174\n",
              "impact___4                   0\n",
              "hoursofsleepweekdays       199\n",
              "inpersonconvo_bin          269\n",
              "worriedphysical            151\n",
              "disruptedsupports___7        0\n",
              "disruptedsupports___2        0\n",
              "symptoms___7                 0\n",
              "familychangestress         180\n",
              "disruptedsupports___6        0\n",
              "symptoms___2                 0\n",
              "positivechange             118\n",
              "exposed___2                  0\n",
              "disruptedsupports___4        0\n",
              "contactschanged            165\n",
              "disruptedsupports___3        0\n",
              "disruptedsupports___12       0\n",
              "exposed___1                  0\n",
              "difficultycancellations    172\n",
              "impact___7                   0\n",
              "disruptedsupports___5        0\n",
              "diagnosedfamily___3          0\n",
              "symptoms___3                 0\n",
              "impact___8                   0\n",
              "disruptedsupports___1        0\n",
              "symptoms___6                 0\n",
              "inpersonconvo              206\n",
              "disruptedsupports___13       0\n",
              "friendchangestress         177\n",
              "hopefullyend               155\n",
              "symptoms___5                 0\n",
              "restrictionsstress         161\n",
              "exposed___4                  0\n",
              "age_bin                     24\n",
              "impact___5                   0\n",
              "foodsecurity               169\n",
              "symptoms___8                 0\n",
              "disruptedsupports___10       0\n",
              "symptoms___4                 0\n",
              "worriedothers              145\n",
              "impact___6                   0\n",
              "friendschange              163\n",
              "readingtalking             130\n",
              "familychange               159\n",
              "worriedmental              149\n",
              "disruptedsupports___8        0\n",
              "timeoutside                150\n",
              "diagnosedfamily___2          0\n",
              "worriedyourself            145\n",
              "impact___1                   0\n",
              "impact___3                   0\n",
              "impact___2                   0\n",
              "symptoms___1                 0\n",
              "difficultydistancing       174\n",
              "dtype: int64"
            ]
          },
          "metadata": {},
          "execution_count": 39
        }
      ]
    },
    {
      "cell_type": "code",
      "metadata": {
        "id": "nxade8x88MSj"
      },
      "source": [
        "# Imputing missing values with Forward Fill Method\n",
        "for col in df_final.columns:\n",
        "    if df_final[col].isnull().sum() != 0:\n",
        "        df_final[col] = df_final[col].fillna(method = 'ffill')"
      ],
      "execution_count": 47,
      "outputs": []
    },
    {
      "cell_type": "code",
      "metadata": {
        "id": "zBOLubKj9Ouz"
      },
      "source": [
        "# Encoding Label for age_bin\n",
        "from sklearn.preprocessing import LabelEncoder\n",
        "le = LabelEncoder()\n",
        "le.fit(df_final['age_bin'])\n",
        "df_final['age_bin'] = le.transform(df_final['age_bin'])"
      ],
      "execution_count": 49,
      "outputs": []
    },
    {
      "cell_type": "code",
      "metadata": {
        "colab": {
          "base_uri": "https://localhost:8080/"
        },
        "id": "HocFBG97ADnY",
        "outputId": "535e5923-6c07-4fe8-f337-1ff1fd5ed0d3"
      },
      "source": [
        "df_final.shape"
      ],
      "execution_count": 50,
      "outputs": [
        {
          "output_type": "execute_result",
          "data": {
            "text/plain": [
              "(10364, 60)"
            ]
          },
          "metadata": {},
          "execution_count": 50
        }
      ]
    },
    {
      "cell_type": "code",
      "metadata": {
        "id": "vuPsB7fdA9Vd"
      },
      "source": [
        "# Defining Train & Target Data\n",
        "X = df_final.drop('worriedmental', axis = 1)\n",
        "y = df_final['worriedmental']"
      ],
      "execution_count": 53,
      "outputs": []
    },
    {
      "cell_type": "code",
      "metadata": {
        "colab": {
          "base_uri": "https://localhost:8080/"
        },
        "id": "UhE7tbJXS5Sr",
        "outputId": "866fc769-199a-4633-9ff4-f37c38a423d9"
      },
      "source": [
        "target_dictionary = {1 : 'Not at all', 2: 'Slightly', 3: 'Moderately', 4: 'Very', 5: 'Extremely'}\n",
        "target_dictionary.values()"
      ],
      "execution_count": 91,
      "outputs": [
        {
          "output_type": "execute_result",
          "data": {
            "text/plain": [
              "dict_values(['Not at all', 'Slightly', 'Moderately', 'Very', 'Extremely'])"
            ]
          },
          "metadata": {},
          "execution_count": 91
        }
      ]
    },
    {
      "cell_type": "code",
      "metadata": {
        "id": "UrPuDq-2CkeU"
      },
      "source": [
        "# Encoding Traget data\n",
        "le_target = LabelEncoder()\n",
        "le_target.fit(y)\n",
        "y = le_target.transform(y)"
      ],
      "execution_count": 63,
      "outputs": []
    },
    {
      "cell_type": "code",
      "metadata": {
        "id": "c_XhRneMAfLk"
      },
      "source": [
        "# Encoding Data with Dummie Values\n",
        "col_to_encode = [col for col in X.columns if '___' not in col]\n",
        "X_final = pd.get_dummies(X, columns=col_to_encode, drop_first=True)"
      ],
      "execution_count": 58,
      "outputs": []
    },
    {
      "cell_type": "code",
      "metadata": {
        "id": "PhHBWbnlCCZL"
      },
      "source": [
        "# Splitting data into train test with ration 80:20\n",
        "from sklearn.model_selection import train_test_split\n",
        "X_train, X_test, y_train, y_test = train_test_split(X_final, y, test_size = 0.2, random_state = 42, stratify = y)"
      ],
      "execution_count": 64,
      "outputs": []
    },
    {
      "cell_type": "code",
      "metadata": {
        "colab": {
          "base_uri": "https://localhost:8080/"
        },
        "id": "25QD9afwC19j",
        "outputId": "6e04bb02-560a-4f37-c13a-448e5e95471d"
      },
      "source": [
        "# Using Random Forest Classifier\n",
        "from sklearn.ensemble import RandomForestClassifier\n",
        "re = RandomForestClassifier(n_estimators=1000, max_depth=300)\n",
        "re.fit(X_train, y_train)\n",
        "re.score(X_test, y_test)"
      ],
      "execution_count": 76,
      "outputs": [
        {
          "output_type": "execute_result",
          "data": {
            "text/plain": [
              "0.48480463096960924"
            ]
          },
          "metadata": {},
          "execution_count": 76
        }
      ]
    },
    {
      "cell_type": "code",
      "metadata": {
        "colab": {
          "base_uri": "https://localhost:8080/"
        },
        "id": "HVL4XgK0RxPI",
        "outputId": "8f62828e-ca35-4fca-f5d4-8658d46ed4c7"
      },
      "source": [
        "# Macro & Weighted Average\n",
        "from sklearn.metrics import classification_report\n",
        "print(classification_report(y_test, re.predict(X_test), target_names=target_dictionary.values()))"
      ],
      "execution_count": 92,
      "outputs": [
        {
          "output_type": "stream",
          "name": "stdout",
          "text": [
            "              precision    recall  f1-score   support\n",
            "\n",
            "  Not at all       0.68      0.61      0.64       454\n",
            "    Slightly       0.44      0.48      0.46       522\n",
            "  Moderately       0.41      0.45      0.43       526\n",
            "        Very       0.41      0.38      0.39       356\n",
            "   Extremely       0.57      0.49      0.53       215\n",
            "\n",
            "    accuracy                           0.48      2073\n",
            "   macro avg       0.50      0.48      0.49      2073\n",
            "weighted avg       0.49      0.48      0.49      2073\n",
            "\n"
          ]
        }
      ]
    },
    {
      "cell_type": "code",
      "metadata": {
        "colab": {
          "base_uri": "https://localhost:8080/",
          "height": 363
        },
        "id": "lnLhHEoyE2VJ",
        "outputId": "3acc13a1-47ca-4536-f713-3d24677b19e9"
      },
      "source": [
        "# Getting Feature Importance\n",
        "importance = pd.DataFrame()\n",
        "importance['Feature_Name'] = re.feature_names_in_\n",
        "importance['Feature_Value'] = re.feature_importances_\n",
        "importance.sort_values(by='Feature_Value', ascending=False).iloc[:10, :]"
      ],
      "execution_count": 77,
      "outputs": [
        {
          "output_type": "execute_result",
          "data": {
            "text/html": [
              "<div>\n",
              "<style scoped>\n",
              "    .dataframe tbody tr th:only-of-type {\n",
              "        vertical-align: middle;\n",
              "    }\n",
              "\n",
              "    .dataframe tbody tr th {\n",
              "        vertical-align: top;\n",
              "    }\n",
              "\n",
              "    .dataframe thead th {\n",
              "        text-align: right;\n",
              "    }\n",
              "</style>\n",
              "<table border=\"1\" class=\"dataframe\">\n",
              "  <thead>\n",
              "    <tr style=\"text-align: right;\">\n",
              "      <th></th>\n",
              "      <th>Feature_Name</th>\n",
              "      <th>Feature_Value</th>\n",
              "    </tr>\n",
              "  </thead>\n",
              "  <tbody>\n",
              "    <tr>\n",
              "      <th>53</th>\n",
              "      <td>worriedphysical_3.0</td>\n",
              "      <td>0.018871</td>\n",
              "    </tr>\n",
              "    <tr>\n",
              "      <th>52</th>\n",
              "      <td>worriedphysical_2.0</td>\n",
              "      <td>0.016892</td>\n",
              "    </tr>\n",
              "    <tr>\n",
              "      <th>55</th>\n",
              "      <td>worriedphysical_5.0</td>\n",
              "      <td>0.016869</td>\n",
              "    </tr>\n",
              "    <tr>\n",
              "      <th>117</th>\n",
              "      <td>restrictionsstress_3.0</td>\n",
              "      <td>0.015254</td>\n",
              "    </tr>\n",
              "    <tr>\n",
              "      <th>54</th>\n",
              "      <td>worriedphysical_4.0</td>\n",
              "      <td>0.014795</td>\n",
              "    </tr>\n",
              "    <tr>\n",
              "      <th>121</th>\n",
              "      <td>age_bin_2</td>\n",
              "      <td>0.013899</td>\n",
              "    </tr>\n",
              "    <tr>\n",
              "      <th>126</th>\n",
              "      <td>worriedothers_5.0</td>\n",
              "      <td>0.013849</td>\n",
              "    </tr>\n",
              "    <tr>\n",
              "      <th>147</th>\n",
              "      <td>difficultydistancing_2.0</td>\n",
              "      <td>0.013298</td>\n",
              "    </tr>\n",
              "    <tr>\n",
              "      <th>139</th>\n",
              "      <td>timeoutside_2.0</td>\n",
              "      <td>0.012830</td>\n",
              "    </tr>\n",
              "    <tr>\n",
              "      <th>133</th>\n",
              "      <td>readingtalking_4.0</td>\n",
              "      <td>0.012774</td>\n",
              "    </tr>\n",
              "  </tbody>\n",
              "</table>\n",
              "</div>"
            ],
            "text/plain": [
              "                 Feature_Name  Feature_Value\n",
              "53        worriedphysical_3.0       0.018871\n",
              "52        worriedphysical_2.0       0.016892\n",
              "55        worriedphysical_5.0       0.016869\n",
              "117    restrictionsstress_3.0       0.015254\n",
              "54        worriedphysical_4.0       0.014795\n",
              "121                 age_bin_2       0.013899\n",
              "126         worriedothers_5.0       0.013849\n",
              "147  difficultydistancing_2.0       0.013298\n",
              "139           timeoutside_2.0       0.012830\n",
              "133        readingtalking_4.0       0.012774"
            ]
          },
          "metadata": {},
          "execution_count": 77
        }
      ]
    }
  ]
}